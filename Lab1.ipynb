{
 "cells": [
  {
   "cell_type": "markdown",
   "id": "01192ef7",
   "metadata": {},
   "source": [
    "# Бондарев И. М., гр. 853501"
   ]
  },
  {
   "cell_type": "code",
   "execution_count": 2,
   "id": "360c15cb",
   "metadata": {},
   "outputs": [],
   "source": [
    "import numpy as np\n",
    "from matplotlib import pyplot as plt\n",
    "\n",
    "from scipy.special import kolmogorov\n",
    "\n",
    "from scipy import stats"
   ]
  },
  {
   "cell_type": "code",
   "execution_count": 3,
   "id": "63c83258",
   "metadata": {},
   "outputs": [],
   "source": [
    "n = 3\n",
    "m = 3\n",
    "X = [1, 2, 3]\n",
    "Y = [1, 2, 3]\n",
    "P = [[0.05, 0.1, 0.05],\n",
    "     [0.05, 0.2, 0.05],\n",
    "     [0.1, 0.3, 0.1]]"
   ]
  },
  {
   "cell_type": "code",
   "execution_count": 4,
   "id": "bcc717b2",
   "metadata": {},
   "outputs": [],
   "source": [
    "q = np.sum(P, axis=1)\n",
    "l = np.cumsum(q)\n",
    "\n",
    "def rand():\n",
    "    rv_X = np.random.uniform()\n",
    "    k = np.searchsorted(l, rv_X)\n",
    "    r = np.cumsum(P[k]) / q[k]\n",
    "    rv_Y = np.random.uniform()\n",
    "    s = np.searchsorted(r, rv_Y)\n",
    "    return X[k], Y[s]"
   ]
  },
  {
   "cell_type": "code",
   "execution_count": 5,
   "id": "95034619",
   "metadata": {},
   "outputs": [
    {
     "data": {
      "text/plain": [
       "(2, 2)"
      ]
     },
     "execution_count": 5,
     "metadata": {},
     "output_type": "execute_result"
    }
   ],
   "source": [
    "rand()"
   ]
  },
  {
   "cell_type": "code",
   "execution_count": 6,
   "id": "c8139fa2",
   "metadata": {},
   "outputs": [],
   "source": [
    "N = 10000\n",
    "samples = [rand() for i in range(N)]"
   ]
  },
  {
   "cell_type": "code",
   "execution_count": 7,
   "id": "4be6c7aa",
   "metadata": {},
   "outputs": [
    {
     "data": {
      "text/plain": [
       "array([[0.05  , 0.0973, 0.0482],\n",
       "       [0.0519, 0.197 , 0.0519],\n",
       "       [0.1027, 0.303 , 0.098 ]])"
      ]
     },
     "execution_count": 7,
     "metadata": {},
     "output_type": "execute_result"
    }
   ],
   "source": [
    "P_empirical = np.zeros((n, m))\n",
    "\n",
    "\n",
    "for item in samples:\n",
    "    P_empirical[item[0] - 1][item[1] - 1] += 1\n",
    "    \n",
    "P_empirical /= N\n",
    "\n",
    "P_empirical\n"
   ]
  },
  {
   "cell_type": "code",
   "execution_count": 8,
   "id": "d36bd687",
   "metadata": {},
   "outputs": [
    {
     "data": {
      "image/png": "[encoded data removed]",
      "text/plain": [
       "<Figure size 432x288 with 1 Axes>"
      ]
     },
     "metadata": {
      "needs_background": "light"
     },
     "output_type": "display_data"
    },
    {
     "data": {
      "image/png": "[encoded data removed]",
      "text/plain": [
       "<Figure size 432x288 with 1 Axes>"
      ]
     },
     "metadata": {
      "needs_background": "light"
     },
     "output_type": "display_data"
    }
   ],
   "source": [
    "def plot_hist(points, weights):\n",
    "    plt.hist(points, bins=list(points) + [points[-1] + 1], weights=weights, align='mid', histtype='stepfilled')\n",
    "    plt.xlim(0, n + m)\n",
    "    plt.show()\n",
    "\n",
    "    \n",
    "plot_hist(X, P_empirical.sum(axis=1))\n",
    "plot_hist(Y, P_empirical.sum(axis=0))"
   ]
  },
  {
   "cell_type": "code",
   "execution_count": 9,
   "id": "fb328bd1",
   "metadata": {},
   "outputs": [
    {
     "name": "stdout",
     "output_type": "stream",
     "text": [
      "Theoretical M_x = 2.3, M_y = 2.0\n"
     ]
    }
   ],
   "source": [
    "P_x_t = np.sum(P, axis=1)\n",
    "P_y_t = np.sum(P, axis=0)\n",
    "\n",
    "M_x = 0\n",
    "M_y = 0\n",
    "\n",
    "for i in range(n):\n",
    "    M_x += P_x_t[i] * X[i]\n",
    "    \n",
    "for j in range(m):\n",
    "    M_y += P_y_t[j] * Y[j]\n",
    "\n",
    "    \n",
    "print(f'Theoretical M_x = {M_x}, M_y = {M_y}')"
   ]
  },
  {
   "cell_type": "code",
   "execution_count": 10,
   "id": "7e519daa",
   "metadata": {},
   "outputs": [],
   "source": [
    "def get_M_Emp(X):\n",
    "    return X.mean()\n",
    "\n",
    "def get_D_Emp(X):\n",
    "    m_x = X.mean()\n",
    "    return ((X - m_x) ** 2 / (len(X) - 1)).sum()"
   ]
  },
  {
   "cell_type": "code",
   "execution_count": 11,
   "id": "f17103f4",
   "metadata": {},
   "outputs": [
    {
     "name": "stdout",
     "output_type": "stream",
     "text": [
      "Empirical M_x = 2.3082, M_y = 1.9935\n"
     ]
    }
   ],
   "source": [
    "samples_X = np.array(np.squeeze(np.matrix(samples)[:, 0]))[0]\n",
    "samples_Y = np.array(np.squeeze(np.matrix(samples)[:, 1]))[0]\n",
    "\n",
    "M_x_e = get_M_Emp(samples_X)\n",
    "M_y_e = get_M_Emp(samples_Y)\n",
    "\n",
    "print(f'Empirical M_x = {M_x_e}, M_y = {M_y_e}')"
   ]
  },
  {
   "cell_type": "code",
   "execution_count": 12,
   "id": "aa10073b",
   "metadata": {},
   "outputs": [
    {
     "name": "stdout",
     "output_type": "stream",
     "text": [
      "Theoretical D_x = 0.61, D_y = 0.4\n"
     ]
    }
   ],
   "source": [
    "D_x = 0\n",
    "D_y = 0\n",
    "\n",
    "for i in range(n):\n",
    "    D_x += P_x_t[i] * (X[i] - M_x)**2\n",
    "    \n",
    "for j in range(m):\n",
    "    D_y += P_y_t[j] * (Y[j] - M_y)**2\n",
    "    \n",
    "\n",
    "print(f'Theoretical D_x = {D_x}, D_y = {D_y}')\n",
    "    \n"
   ]
  },
  {
   "cell_type": "code",
   "execution_count": 13,
   "id": "34f0183d",
   "metadata": {},
   "outputs": [
    {
     "name": "stdout",
     "output_type": "stream",
     "text": [
      "Empirical D_x = 0.6042731873187317, D_y = 0.40269801980198006\n"
     ]
    }
   ],
   "source": [
    "D_x_e = get_D_Emp(samples_X)\n",
    "D_y_e = get_D_Emp(samples_Y)\n",
    "\n",
    "print(f'Empirical D_x = {D_x_e}, D_y = {D_y_e}')"
   ]
  },
  {
   "cell_type": "code",
   "execution_count": 14,
   "id": "bb7924cc",
   "metadata": {},
   "outputs": [],
   "source": [
    "def M_interval(M, D, n, p):\n",
    "    alpha = 1 - p\n",
    "    return M - stats.norm.ppf(1 - alpha / 2) * np.sqrt(D) / np.sqrt(n), M + stats.norm.ppf(1 - alpha / 2) * np.sqrt(D) / np.sqrt(n)\n",
    "\n",
    "def D_interval(M, D, n, p):\n",
    "    alpha = 1 - p\n",
    "    return (n - 1) * D / stats.chi2(n - 1).ppf(1 - alpha / 2), (n - 1) * D / stats.chi2(n - 1).ppf(alpha / 2)"
   ]
  },
  {
   "cell_type": "code",
   "execution_count": 15,
   "id": "27fb9ad3",
   "metadata": {},
   "outputs": [
    {
     "name": "stdout",
     "output_type": "stream",
     "text": [
      "Interval: M_x = (2.292964217888357, 2.3234357821116425), Interval: M_y = (1.981062364130413, 2.005937635869587)\n"
     ]
    }
   ],
   "source": [
    "M_x_interval = M_interval(M_x_e, D_x_e, N, 0.95)\n",
    "M_y_interval = M_interval(M_y_e, D_y_e, N, 0.95)\n",
    "\n",
    "print(f'Interval: M_x = {M_x_interval}, Interval: M_y = {M_y_interval}')"
   ]
  },
  {
   "cell_type": "code",
   "execution_count": 16,
   "id": "08b78768",
   "metadata": {},
   "outputs": [
    {
     "name": "stdout",
     "output_type": "stream",
     "text": [
      "Interval: D_x = (0.5878667533755008, 0.6213794716600323), Interval: D_y = (0.391764490730027, 0.41409794118683846)\n"
     ]
    }
   ],
   "source": [
    "D_x_interval = D_interval(M_x_e, D_x_e, N, 0.95)\n",
    "D_y_interval = D_interval(M_y_e, D_y_e, N, 0.95)\n",
    "\n",
    "print(f'Interval: D_x = {D_x_interval}, Interval: D_y = {D_y_interval}')"
   ]
  },
  {
   "cell_type": "code",
   "execution_count": 17,
   "id": "7ac68013",
   "metadata": {},
   "outputs": [
    {
     "name": "stdout",
     "output_type": "stream",
     "text": [
      "R = -0.0019234111252874628\n"
     ]
    }
   ],
   "source": [
    "def get_R(X, M_x, Y, M_y, D_x, D_y):\n",
    "    numerator = 0\n",
    "    for i in range(N):\n",
    "        numerator += (X[i] - M_x) * (Y[i] - M_y)\n",
    "        \n",
    "    return numerator / (np.sqrt(D_x * D_y * ((N - 1) ** 2)))\n",
    "\n",
    "R = get_R(samples_X, M_x, samples_Y, M_y, D_x, D_y)\n",
    "print(f'R = {R}')"
   ]
  },
  {
   "cell_type": "code",
   "execution_count": 18,
   "id": "8f8aae22",
   "metadata": {},
   "outputs": [
    {
     "name": "stdout",
     "output_type": "stream",
     "text": [
      "pValue = 0.9992952484541099, alpha = 0.05, True\n"
     ]
    }
   ],
   "source": [
    "alpha = 0.05\n",
    "\n",
    "s = len(P) * np.sum((P - P_empirical) ** 2 / P)\n",
    "p_value = 1 - stats.chi2.cdf(s, len(P) - 1)\n",
    "\n",
    "print(f'pValue = {p_value}, alpha = {alpha}, {p_value > alpha}')\n"
   ]
  }
 ],
 "metadata": {
  "kernelspec": {
   "display_name": "Python 3 (ipykernel)",
   "language": "python",
   "name": "python3"
  },
  "language_info": {
   "codemirror_mode": {
    "name": "ipython",
    "version": 3
   },
   "file_extension": ".py",
   "mimetype": "text/x-python",
   "name": "python",
   "nbconvert_exporter": "python",
   "pygments_lexer": "ipython3",
   "version": "3.9.7"
  }
 },
 "nbformat": 4,
 "nbformat_minor": 5
}
